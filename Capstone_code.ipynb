{
  "nbformat": 4,
  "nbformat_minor": 0,
  "metadata": {
    "colab": {
      "provenance": [],
      "gpuType": "T4",
      "authorship_tag": "ABX9TyO/TmFEEQD5CaWfpilX/5bK",
      "include_colab_link": true
    },
    "kernelspec": {
      "name": "python3",
      "display_name": "Python 3"
    },
    "language_info": {
      "name": "python"
    },
    "accelerator": "GPU"
  },
  "cells": [
    {
      "cell_type": "markdown",
      "metadata": {
        "id": "view-in-github",
        "colab_type": "text"
      },
      "source": [
        "<a href=\"https://colab.research.google.com/github/salooohy/Capstone/blob/main/Capstone_code.ipynb\" target=\"_parent\"><img src=\"https://colab.research.google.com/assets/colab-badge.svg\" alt=\"Open In Colab\"/></a>"
      ]
    },
    {
      "cell_type": "code",
      "source": [
        "!git config --global user.email \"salih.h.altak@gmail.com\"\n",
        "!git config --global user.name \"salooohy\"\n",
        "!git init\n",
        "!git remote add origin https://github.com/salooohy/Capstone.git\n",
        "!git add .\n",
        "!git commit -m \"Initial commit\"\n",
        "!git branch -M main\n",
        "!git push -u origin main\n"
      ],
      "metadata": {
        "colab": {
          "base_uri": "https://localhost:8080/"
        },
        "id": "lewLeyKj2VeN",
        "outputId": "e48012e7-16e5-4ad4-cbd3-219f16d4b4ee"
      },
      "execution_count": 7,
      "outputs": [
        {
          "output_type": "stream",
          "name": "stdout",
          "text": [
            "Reinitialized existing Git repository in /content/Tensorflow-Object-Detection/Tensorflow-Object-Detection/.git/\n",
            "error: remote origin already exists.\n",
            "On branch main\n",
            "Your branch is up to date with 'origin/master'.\n",
            "\n",
            "nothing to commit, working tree clean\n",
            "fatal: could not read Username for 'https://github.com': No such device or address\n"
          ]
        }
      ]
    },
    {
      "cell_type": "code",
      "source": [
        "!git status\n"
      ],
      "metadata": {
        "colab": {
          "base_uri": "https://localhost:8080/"
        },
        "id": "fWOBqbGA3N24",
        "outputId": "d244d0f4-8ad6-4dc4-9f42-713b6a703f4a"
      },
      "execution_count": 9,
      "outputs": [
        {
          "output_type": "stream",
          "name": "stdout",
          "text": [
            "On branch main\n",
            "Your branch is up to date with 'origin/master'.\n",
            "\n",
            "nothing to commit, working tree clean\n"
          ]
        }
      ]
    },
    {
      "cell_type": "code",
      "execution_count": 2,
      "metadata": {
        "colab": {
          "base_uri": "https://localhost:8080/"
        },
        "id": "tgd4rD5cwRTs",
        "outputId": "f2ab5dbd-158b-4503-9433-c03ffbcc41f7"
      },
      "outputs": [
        {
          "output_type": "stream",
          "name": "stdout",
          "text": [
            "Cloning into 'Tensorflow-Object-Detection'...\n",
            "remote: Enumerating objects: 59, done.\u001b[K\n",
            "remote: Counting objects: 100% (59/59), done.\u001b[K\n",
            "remote: Compressing objects: 100% (55/55), done.\u001b[K\n",
            "remote: Total 59 (delta 27), reused 7 (delta 2), pack-reused 0 (from 0)\u001b[K\n",
            "Receiving objects: 100% (59/59), 18.28 MiB | 4.68 MiB/s, done.\n",
            "Resolving deltas: 100% (27/27), done.\n",
            "/content/Tensorflow-Object-Detection/Tensorflow-Object-Detection\n"
          ]
        }
      ],
      "source": [
        "# Clone our github repository to access utility files for data preparation\n",
        "# Respository: https://github.com/deepme987/Tensorflow-Object-Detection\n",
        "\n",
        "!git clone https://github.com/deepme987/Tensorflow-Object-Detection\n",
        "%cd Tensorflow-Object-Detection"
      ]
    },
    {
      "cell_type": "code",
      "source": [
        "!ls\n"
      ],
      "metadata": {
        "colab": {
          "base_uri": "https://localhost:8080/"
        },
        "id": "CSc5xFKC1iJS",
        "outputId": "f236f325-d161-47c5-ba5f-235ae026680d"
      },
      "execution_count": 3,
      "outputs": [
        {
          "output_type": "stream",
          "name": "stdout",
          "text": [
            "ed_fix.py\t      inference_colab.py\t\t\t  README.md\n",
            "generate_tfrecord.py  Object_Detection_Face_Mask_Detection.ipynb  xml_to_csv.py\n"
          ]
        }
      ]
    },
    {
      "cell_type": "code",
      "source": [],
      "metadata": {
        "id": "I3T_lTaK1iyZ"
      },
      "execution_count": null,
      "outputs": []
    },
    {
      "cell_type": "code",
      "source": [],
      "metadata": {
        "id": "Fm_7-COO2Srg"
      },
      "execution_count": null,
      "outputs": []
    }
  ]
}